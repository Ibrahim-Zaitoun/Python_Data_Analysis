{
 "cells": [
  {
   "cell_type": "code",
   "execution_count": 13,
   "id": "257a2b7a",
   "metadata": {},
   "outputs": [],
   "source": [
    "print?\n",
    "'''\n",
    "Docstring:\n",
    "print(value, ..., sep=' ', end='\\n', file=sys.stdout, flush=False)\n",
    "\n",
    "Prints the values to a stream, or to sys.stdout by default.\n",
    "Optional keyword arguments:\n",
    "file:  a file-like object (stream); defaults to the current sys.stdout.\n",
    "sep:   string inserted between values, default a space.\n",
    "end:   string appended after the last value, default a newline.\n",
    "flush: whether to forcibly flush the stream.\n",
    "Type:      builtin_function_or_method\n",
    "'''"
   ]
  },
  {
   "cell_type": "code",
   "execution_count": 2,
   "id": "f6389e6c",
   "metadata": {},
   "outputs": [],
   "source": [
    "a = [1,2,3]\n",
    "a?"
   ]
  },
  {
   "cell_type": "code",
   "execution_count": 3,
   "id": "9ac0a82c",
   "metadata": {},
   "outputs": [],
   "source": [
    "def add_numbers(a, b):\n",
    "    \"\"\"\n",
    "    Add two numbers together\n",
    "\n",
    "    Returns\n",
    "    -------\n",
    "    the_sum : type of arguments\n",
    "    \"\"\"\n",
    "    return a + b"
   ]
  },
  {
   "cell_type": "code",
   "execution_count": 4,
   "id": "c996c199",
   "metadata": {},
   "outputs": [],
   "source": [
    "add_numbers?"
   ]
  },
  {
   "cell_type": "code",
   "execution_count": 5,
   "id": "a774f4f6",
   "metadata": {},
   "outputs": [],
   "source": [
    "import numpy as np\n",
    "\n",
    "np.*load*?  # give you all methods in numpy that start with load"
   ]
  },
  {
   "cell_type": "code",
   "execution_count": 7,
   "id": "ac6d7d04",
   "metadata": {},
   "outputs": [],
   "source": [
    "import pandas as pd \n",
    "\n",
    "pd.*read*?  \n",
    "\n",
    "'''\n",
    "pd.read_clipboard\n",
    "pd.read_csv\n",
    "pd.read_excel\n",
    "pd.read_feather\n",
    "pd.read_fwf\n",
    "pd.read_gbq\n",
    "pd.read_hdf\n",
    "pd.read_html\n",
    "pd.read_json\n",
    "pd.read_orc\n",
    "pd.read_parquet\n",
    "pd.read_pickle\n",
    "pd.read_sas\n",
    "pd.read_spss\n",
    "pd.read_sql\n",
    "pd.read_sql_query\n",
    "pd.read_sql_table\n",
    "pd.read_stata\n",
    "pd.read_table\n",
    "pd.read_xml\n",
    "\n",
    "'''"
   ]
  },
  {
   "cell_type": "code",
   "execution_count": 8,
   "id": "8d9867c1",
   "metadata": {},
   "outputs": [
    {
     "data": {
      "text/plain": [
       "(6, 7, 5)"
      ]
     },
     "execution_count": 8,
     "metadata": {},
     "output_type": "execute_result"
    }
   ],
   "source": [
    "# Define more than one variable in the same line\n",
    "a = 5; b = 6; c = 7\n",
    "\n",
    "b,c,a"
   ]
  },
  {
   "cell_type": "code",
   "execution_count": 9,
   "id": "335bd6da",
   "metadata": {},
   "outputs": [
    {
     "data": {
      "text/plain": [
       "(7, 5, 6)"
      ]
     },
     "execution_count": 9,
     "metadata": {},
     "output_type": "execute_result"
    }
   ],
   "source": [
    "c,a,b"
   ]
  },
  {
   "cell_type": "code",
   "execution_count": 10,
   "id": "46a03fae",
   "metadata": {},
   "outputs": [
    {
     "data": {
      "text/plain": [
       "6"
      ]
     },
     "execution_count": 10,
     "metadata": {},
     "output_type": "execute_result"
    }
   ],
   "source": [
    "b"
   ]
  },
  {
   "cell_type": "code",
   "execution_count": 18,
   "id": "12cd59f6",
   "metadata": {},
   "outputs": [],
   "source": [
    "def append_only_numbers(some_list, element):\n",
    "        if type(element) == int or type(element) == float:\n",
    "            some_list.append(element)\n",
    "        else:\n",
    "            print('This method append only numeric data')"
   ]
  },
  {
   "cell_type": "code",
   "execution_count": 19,
   "id": "21327d70",
   "metadata": {},
   "outputs": [],
   "source": [
    " data = [1, 2, 3]\n",
    "\n",
    "append_only_numbers(data,5)"
   ]
  },
  {
   "cell_type": "code",
   "execution_count": 20,
   "id": "5fa58fee",
   "metadata": {},
   "outputs": [
    {
     "data": {
      "text/plain": [
       "[1, 2, 3, 5]"
      ]
     },
     "execution_count": 20,
     "metadata": {},
     "output_type": "execute_result"
    }
   ],
   "source": [
    "data"
   ]
  },
  {
   "cell_type": "code",
   "execution_count": 21,
   "id": "06a6847c",
   "metadata": {},
   "outputs": [
    {
     "name": "stdout",
     "output_type": "stream",
     "text": [
      "This method append only numeric data\n"
     ]
    }
   ],
   "source": [
    "append_only_numbers(data,\"fgd\")"
   ]
  },
  {
   "cell_type": "code",
   "execution_count": 22,
   "id": "6c4fea1d",
   "metadata": {},
   "outputs": [
    {
     "data": {
      "text/plain": [
       "True"
      ]
     },
     "execution_count": 22,
     "metadata": {},
     "output_type": "execute_result"
    }
   ],
   "source": [
    "# isinstance can accept a tuple of types \n",
    "\n",
    "a = 5; b = 4.5\n",
    "\n",
    "isinstance(a, (int, float))"
   ]
  },
  {
   "cell_type": "code",
   "execution_count": 24,
   "id": "8f7f38e6",
   "metadata": {},
   "outputs": [
    {
     "data": {
      "text/plain": [
       "False"
      ]
     },
     "execution_count": 24,
     "metadata": {},
     "output_type": "execute_result"
    }
   ],
   "source": [
    "isinstance(b, (int, str))"
   ]
  },
  {
   "cell_type": "code",
   "execution_count": 34,
   "id": "132364cb",
   "metadata": {},
   "outputs": [
    {
     "data": {
      "text/plain": [
       "<function str.split(sep=None, maxsplit=-1)>"
      ]
     },
     "execution_count": 34,
     "metadata": {},
     "output_type": "execute_result"
    }
   ],
   "source": [
    "name = 'my name is ibrahim'\n",
    "\n",
    "getattr(name, \"split\")"
   ]
  },
  {
   "cell_type": "code",
   "execution_count": 29,
   "id": "390c77dc",
   "metadata": {},
   "outputs": [
    {
     "data": {
      "text/plain": [
       "True"
      ]
     },
     "execution_count": 29,
     "metadata": {},
     "output_type": "execute_result"
    }
   ],
   "source": [
    "# check if the variable has the attribute\n",
    "hasattr(name,'upper')"
   ]
  },
  {
   "cell_type": "code",
   "execution_count": 30,
   "id": "c310a924",
   "metadata": {},
   "outputs": [
    {
     "data": {
      "text/plain": [
       "True"
      ]
     },
     "execution_count": 30,
     "metadata": {},
     "output_type": "execute_result"
    }
   ],
   "source": [
    "hasattr(name,'isdigit')"
   ]
  },
  {
   "cell_type": "code",
   "execution_count": 31,
   "id": "594ec429",
   "metadata": {},
   "outputs": [
    {
     "data": {
      "text/plain": [
       "False"
      ]
     },
     "execution_count": 31,
     "metadata": {},
     "output_type": "execute_result"
    }
   ],
   "source": [
    "hasattr(name,'take')"
   ]
  },
  {
   "cell_type": "code",
   "execution_count": 37,
   "id": "7846477d",
   "metadata": {},
   "outputs": [
    {
     "data": {
      "text/plain": [
       "'Adam'"
      ]
     },
     "execution_count": 37,
     "metadata": {},
     "output_type": "execute_result"
    }
   ],
   "source": [
    "# The setattr() function sets the value of the attribute of an object.\n",
    "\n",
    "class Student:\n",
    "    marks = 88\n",
    "    name = 'ibrahim'\n",
    "\n",
    "person = Student()\n",
    "\n",
    "# set value of name to Adam\n",
    "setattr(person, 'name', 'Adam')\n",
    "\n",
    "person.name"
   ]
  },
  {
   "cell_type": "code",
   "execution_count": 38,
   "id": "4ad23130",
   "metadata": {},
   "outputs": [
    {
     "name": "stdout",
     "output_type": "stream",
     "text": [
      "78\n"
     ]
    }
   ],
   "source": [
    "# set value of marks to 78\n",
    "setattr(person, 'marks', 78)\n",
    "print(person.marks)"
   ]
  },
  {
   "cell_type": "code",
   "execution_count": 3,
   "id": "24093b52",
   "metadata": {},
   "outputs": [],
   "source": [
    "def isiterable(obj):\n",
    "    try:\n",
    "            iter(obj) # verify that an object is iterable\n",
    "            return True\n",
    "    except TypeError: # not iterable\n",
    "            return False"
   ]
  },
  {
   "cell_type": "code",
   "execution_count": 4,
   "id": "04bc0a49",
   "metadata": {},
   "outputs": [
    {
     "data": {
      "text/plain": [
       "True"
      ]
     },
     "execution_count": 4,
     "metadata": {},
     "output_type": "execute_result"
    }
   ],
   "source": [
    "isiterable(\"a string\")"
   ]
  },
  {
   "cell_type": "code",
   "execution_count": 5,
   "id": "dfb6140c",
   "metadata": {},
   "outputs": [
    {
     "data": {
      "text/plain": [
       "True"
      ]
     },
     "execution_count": 5,
     "metadata": {},
     "output_type": "execute_result"
    }
   ],
   "source": [
    "isiterable([1, 2, 3])"
   ]
  },
  {
   "cell_type": "code",
   "execution_count": 6,
   "id": "79b0d233",
   "metadata": {},
   "outputs": [
    {
     "data": {
      "text/plain": [
       "False"
      ]
     },
     "execution_count": 6,
     "metadata": {},
     "output_type": "execute_result"
    }
   ],
   "source": [
    "isiterable(15)"
   ]
  },
  {
   "cell_type": "code",
   "execution_count": 7,
   "id": "82ae28f5",
   "metadata": {},
   "outputs": [
    {
     "data": {
      "text/plain": [
       "True"
      ]
     },
     "execution_count": 7,
     "metadata": {},
     "output_type": "execute_result"
    }
   ],
   "source": [
    "# EXCLUSIVE-OR\n",
    "\n",
    "a = True\n",
    "b = False\n",
    "a ^ b"
   ]
  },
  {
   "cell_type": "code",
   "execution_count": 8,
   "id": "945415b9",
   "metadata": {},
   "outputs": [
    {
     "data": {
      "text/plain": [
       "True"
      ]
     },
     "execution_count": 8,
     "metadata": {},
     "output_type": "execute_result"
    }
   ],
   "source": [
    "b ^ a # True if a or b is True, but not both"
   ]
  },
  {
   "cell_type": "code",
   "execution_count": 9,
   "id": "c54f6aa5",
   "metadata": {},
   "outputs": [
    {
     "data": {
      "text/plain": [
       "False"
      ]
     },
     "execution_count": 9,
     "metadata": {},
     "output_type": "execute_result"
    }
   ],
   "source": [
    "True ^ True"
   ]
  },
  {
   "cell_type": "code",
   "execution_count": 10,
   "id": "77ff36c5",
   "metadata": {},
   "outputs": [
    {
     "data": {
      "text/plain": [
       "True"
      ]
     },
     "execution_count": 10,
     "metadata": {},
     "output_type": "execute_result"
    }
   ],
   "source": [
    "a = [1, 2, 3]\n",
    "\n",
    "b = a\n",
    "\n",
    "c = list(a)\n",
    "\n",
    "a is b # True if a and b reference the same Python object"
   ]
  },
  {
   "cell_type": "code",
   "execution_count": 11,
   "id": "47debbd8",
   "metadata": {},
   "outputs": [
    {
     "data": {
      "text/plain": [
       "True"
      ]
     },
     "execution_count": 11,
     "metadata": {},
     "output_type": "execute_result"
    }
   ],
   "source": [
    "a is not c # True if a and c reference different Python objects"
   ]
  },
  {
   "cell_type": "code",
   "execution_count": 16,
   "id": "9b68b2f5",
   "metadata": {},
   "outputs": [
    {
     "data": {
      "text/plain": [
       "([1, 2, 3], [1, 2, 3])"
      ]
     },
     "execution_count": 16,
     "metadata": {},
     "output_type": "execute_result"
    }
   ],
   "source": [
    "a , c"
   ]
  },
  {
   "cell_type": "code",
   "execution_count": 12,
   "id": "4b7cdcbf",
   "metadata": {},
   "outputs": [
    {
     "data": {
      "text/plain": [
       "True"
      ]
     },
     "execution_count": 12,
     "metadata": {},
     "output_type": "execute_result"
    }
   ],
   "source": [
    "a == c # a,c have the same content"
   ]
  },
  {
   "cell_type": "code",
   "execution_count": 13,
   "id": "31bb8091",
   "metadata": {},
   "outputs": [
    {
     "data": {
      "text/plain": [
       "False"
      ]
     },
     "execution_count": 13,
     "metadata": {},
     "output_type": "execute_result"
    }
   ],
   "source": [
    "a is c"
   ]
  },
  {
   "cell_type": "code",
   "execution_count": 14,
   "id": "8b30b03e",
   "metadata": {},
   "outputs": [
    {
     "data": {
      "text/plain": [
       "(2393280321856, 2393281866496)"
      ]
     },
     "execution_count": 14,
     "metadata": {},
     "output_type": "execute_result"
    }
   ],
   "source": [
    "id(a) , id(c)"
   ]
  },
  {
   "cell_type": "code",
   "execution_count": 15,
   "id": "18a7b468",
   "metadata": {},
   "outputs": [
    {
     "data": {
      "text/plain": [
       "False"
      ]
     },
     "execution_count": 15,
     "metadata": {},
     "output_type": "execute_result"
    }
   ],
   "source": [
    "id(a) == id(c) # have differnt ids"
   ]
  },
  {
   "cell_type": "markdown",
   "id": "5914e4c9",
   "metadata": {},
   "source": [
    "# Scalar Types\n",
    "\n",
    "None -->\tThe Python “null” value (only one instance of the None object exists)\n",
    "\n",
    "str -->\t    String type; holds Unicode strings\n",
    "\n",
    "bytes -->\tRaw binary data\n",
    "\n",
    "float -->\tDouble-precision floating-point number (note there is no separate double type)\n",
    "\n",
    "bool -->\tA Boolean True or False value\n",
    "\n",
    "int\t-->    Arbitrary precision integer"
   ]
  },
  {
   "cell_type": "code",
   "execution_count": 17,
   "id": "85c89118",
   "metadata": {},
   "outputs": [
    {
     "data": {
      "text/plain": [
       "6.78e-05"
      ]
     },
     "execution_count": 17,
     "metadata": {},
     "output_type": "execute_result"
    }
   ],
   "source": [
    "notation = 6.78e-5\n",
    "notation"
   ]
  },
  {
   "cell_type": "code",
   "execution_count": 18,
   "id": "aea5a84d",
   "metadata": {},
   "outputs": [
    {
     "data": {
      "text/plain": [
       "6.779999999999999"
      ]
     },
     "execution_count": 18,
     "metadata": {},
     "output_type": "execute_result"
    }
   ],
   "source": [
    "notation * 10**5"
   ]
  },
  {
   "cell_type": "code",
   "execution_count": 19,
   "id": "85a487fb",
   "metadata": {},
   "outputs": [
    {
     "data": {
      "text/plain": [
       "3"
      ]
     },
     "execution_count": 19,
     "metadata": {},
     "output_type": "execute_result"
    }
   ],
   "source": [
    "c = \"\"\"\n",
    "This is a longer string that\n",
    "spans multiple lines\n",
    "\"\"\"\n",
    "\n",
    "c.count('\\n') # We can count the new line characters."
   ]
  },
  {
   "cell_type": "code",
   "execution_count": 20,
   "id": "e8a8d1f5",
   "metadata": {},
   "outputs": [
    {
     "data": {
      "text/plain": [
       "'this\\\\has\\\\no\\\\special\\\\characters'"
      ]
     },
     "execution_count": 20,
     "metadata": {},
     "output_type": "execute_result"
    }
   ],
   "source": [
    "# string with alot of backslashes\n",
    "\n",
    "s = r\"this\\has\\no\\special\\characters\"\n",
    "s"
   ]
  },
  {
   "cell_type": "code",
   "execution_count": 22,
   "id": "dedc1c1a",
   "metadata": {},
   "outputs": [
    {
     "data": {
      "text/plain": [
       "'88.46 Argentine Pesos are worth US$1'"
      ]
     },
     "execution_count": 22,
     "metadata": {},
     "output_type": "execute_result"
    }
   ],
   "source": [
    "template = \"{0:.2f} {1:s} are worth US${2:d}\"\n",
    "template.format(88.46, \"Argentine Pesos\", 1) \n",
    "\n",
    "'''\n",
    "{0:.2f} means to format the first argument as a floating-point number with two decimal places.\n",
    "\n",
    "{1:s} means to format the second argument as a string.\n",
    "\n",
    "{2:d} means to format the third argument as an exact integer.\n",
    "\n",
    "'''"
   ]
  },
  {
   "cell_type": "code",
   "execution_count": 23,
   "id": "ad67f791",
   "metadata": {},
   "outputs": [
    {
     "data": {
      "text/plain": [
       "'10 Pesos is worth US$0.11304544426859599'"
      ]
     },
     "execution_count": 23,
     "metadata": {},
     "output_type": "execute_result"
    }
   ],
   "source": [
    "# A New Formatting\n",
    "amount = 10\n",
    "\n",
    "rate = 88.46\n",
    "\n",
    "currency = \"Pesos\"\n",
    "\n",
    "result = f\"{amount} {currency} is worth US${amount / rate}\"\n",
    "\n",
    "result"
   ]
  },
  {
   "cell_type": "code",
   "execution_count": 24,
   "id": "ce137bad",
   "metadata": {},
   "outputs": [
    {
     "data": {
      "text/plain": [
       "'10 Pesos is worth US$0.11'"
      ]
     },
     "execution_count": 24,
     "metadata": {},
     "output_type": "execute_result"
    }
   ],
   "source": [
    "result = f\"{amount} {currency} is worth US${amount / rate:.2f}\"\n",
    "result"
   ]
  },
  {
   "cell_type": "code",
   "execution_count": 25,
   "id": "1e81a9ef",
   "metadata": {},
   "outputs": [
    {
     "data": {
      "text/plain": [
       "b'espa\\xc3\\xb1ol'"
      ]
     },
     "execution_count": 25,
     "metadata": {},
     "output_type": "execute_result"
    }
   ],
   "source": [
    "# Bytes and Unicode\n",
    "\n",
    "val = \"español\"\n",
    "val_utf8 = val.encode(\"utf-8\")\n",
    "\n",
    "val_utf8"
   ]
  },
  {
   "cell_type": "code",
   "execution_count": 26,
   "id": "b288ce3a",
   "metadata": {},
   "outputs": [
    {
     "data": {
      "text/plain": [
       "bytes"
      ]
     },
     "execution_count": 26,
     "metadata": {},
     "output_type": "execute_result"
    }
   ],
   "source": [
    "type(val_utf8)"
   ]
  },
  {
   "cell_type": "code",
   "execution_count": 27,
   "id": "cde06b5e",
   "metadata": {},
   "outputs": [
    {
     "data": {
      "text/plain": [
       "'español'"
      ]
     },
     "execution_count": 27,
     "metadata": {},
     "output_type": "execute_result"
    }
   ],
   "source": [
    "val_utf8.decode(\"utf-8\")"
   ]
  },
  {
   "cell_type": "code",
   "execution_count": 28,
   "id": "e2f6cbee",
   "metadata": {},
   "outputs": [
    {
     "data": {
      "text/plain": [
       "'español'"
      ]
     },
     "execution_count": 28,
     "metadata": {},
     "output_type": "execute_result"
    }
   ],
   "source": [
    "decoded_val = val_utf8.decode(\"utf-8\")\n",
    "\n",
    "decoded_val"
   ]
  },
  {
   "cell_type": "code",
   "execution_count": 29,
   "id": "dac80012",
   "metadata": {},
   "outputs": [
    {
     "data": {
      "text/plain": [
       "str"
      ]
     },
     "execution_count": 29,
     "metadata": {},
     "output_type": "execute_result"
    }
   ],
   "source": [
    "type(decoded_val)"
   ]
  },
  {
   "cell_type": "code",
   "execution_count": 30,
   "id": "1056ff0e",
   "metadata": {},
   "outputs": [
    {
     "data": {
      "text/plain": [
       "b'\\xff\\xfee\\x00s\\x00p\\x00a\\x00\\xf1\\x00o\\x00l\\x00'"
      ]
     },
     "execution_count": 30,
     "metadata": {},
     "output_type": "execute_result"
    }
   ],
   "source": [
    "val_utf16 = val.encode(\"utf-16\")\n",
    "\n",
    "val_utf16"
   ]
  },
  {
   "cell_type": "code",
   "execution_count": 31,
   "id": "3d943d66",
   "metadata": {},
   "outputs": [
    {
     "data": {
      "text/plain": [
       "b'espa\\xf1ol'"
      ]
     },
     "execution_count": 31,
     "metadata": {},
     "output_type": "execute_result"
    }
   ],
   "source": [
    "val_latin1 = val.encode(\"latin1\")\n",
    "\n",
    "val_latin1"
   ]
  },
  {
   "cell_type": "code",
   "execution_count": 32,
   "id": "44cadaaa",
   "metadata": {},
   "outputs": [
    {
     "data": {
      "text/plain": [
       "'español'"
      ]
     },
     "execution_count": 32,
     "metadata": {},
     "output_type": "execute_result"
    }
   ],
   "source": [
    "val_latin1.decode(\"latin1\")"
   ]
  },
  {
   "cell_type": "code",
   "execution_count": 1,
   "id": "eedf9387",
   "metadata": {},
   "outputs": [
    {
     "data": {
      "text/plain": [
       "datetime.datetime(2011, 10, 29, 20, 30, 21)"
      ]
     },
     "execution_count": 1,
     "metadata": {},
     "output_type": "execute_result"
    }
   ],
   "source": [
    "from datetime import datetime, date, time\n",
    "\n",
    "dt = datetime(2011, 10, 29, 20, 30, 21)\n",
    "\n",
    "dt"
   ]
  },
  {
   "cell_type": "code",
   "execution_count": 34,
   "id": "381b5a9e",
   "metadata": {},
   "outputs": [
    {
     "data": {
      "text/plain": [
       "29"
      ]
     },
     "execution_count": 34,
     "metadata": {},
     "output_type": "execute_result"
    }
   ],
   "source": [
    "dt.day"
   ]
  },
  {
   "cell_type": "code",
   "execution_count": 35,
   "id": "d77ab9cc",
   "metadata": {},
   "outputs": [
    {
     "data": {
      "text/plain": [
       "20"
      ]
     },
     "execution_count": 35,
     "metadata": {},
     "output_type": "execute_result"
    }
   ],
   "source": [
    "dt.hour"
   ]
  },
  {
   "cell_type": "code",
   "execution_count": 36,
   "id": "4a6f5a81",
   "metadata": {},
   "outputs": [
    {
     "data": {
      "text/plain": [
       "10"
      ]
     },
     "execution_count": 36,
     "metadata": {},
     "output_type": "execute_result"
    }
   ],
   "source": [
    "dt.month"
   ]
  },
  {
   "cell_type": "code",
   "execution_count": 37,
   "id": "f4589d13",
   "metadata": {},
   "outputs": [
    {
     "data": {
      "text/plain": [
       "datetime.date(2011, 10, 29)"
      ]
     },
     "execution_count": 37,
     "metadata": {},
     "output_type": "execute_result"
    }
   ],
   "source": [
    "dt.date()"
   ]
  },
  {
   "cell_type": "code",
   "execution_count": 38,
   "id": "d1957847",
   "metadata": {},
   "outputs": [
    {
     "data": {
      "text/plain": [
       "datetime.time(20, 30, 21)"
      ]
     },
     "execution_count": 38,
     "metadata": {},
     "output_type": "execute_result"
    }
   ],
   "source": [
    "dt.time()"
   ]
  },
  {
   "cell_type": "code",
   "execution_count": 39,
   "id": "50f4b830",
   "metadata": {},
   "outputs": [
    {
     "data": {
      "text/plain": [
       "'2011-10-29 20:30'"
      ]
     },
     "execution_count": 39,
     "metadata": {},
     "output_type": "execute_result"
    }
   ],
   "source": [
    "# The strftime method formats a datetime as a string\n",
    "dt.strftime(\"%Y-%m-%d %H:%M\")"
   ]
  },
  {
   "cell_type": "raw",
   "id": "8d1fcfee",
   "metadata": {},
   "source": [
    "# a complete list of the format codes.\n",
    "\n",
    "%Y\tFour-digit year\n",
    "%y\tTwo-digit year\n",
    "%m\tTwo-digit month [01, 12]\n",
    "%d\tTwo-digit day [01, 31]\n",
    "%H\tHour (24-hour clock) [00, 23]\n",
    "%I\tHour (12-hour clock) [01, 12]\n",
    "%M\tTwo-digit minute [00, 59]\n",
    "%S\tSecond [00, 61] (seconds 60, 61 account for leap seconds)\n",
    "%f\tMicrosecond as an integer, zero-padded (from 000000 to 999999)\n",
    "%j\tDay of the year as a zero-padded integer (from 001 to 336)\n",
    "%w\tWeekday as an integer [0 (Sunday), 6]\n",
    "%u\tWeekday as an integer starting from 1, where 1 is Monday.\n",
    "%U\tWeek number of the year [00, 53]; Sunday is considered the first day of the week, and days before the first Sunday of the year are “week 0”\n",
    "%W\tWeek number of the year [00, 53]; Monday is considered the first day of the week, and days before the first Monday of the year are “week 0”\n",
    "%z\tUTC time zone offset as +HHMM or -HHMM; empty if time zone naive\n",
    "%Z\tTime zone name as a string, or empty string if no time zone\n",
    "%F\tShortcut for %Y-%m-%d (e.g., 2012-4-18)\n",
    "%D\tShortcut for %m/%d/%y (e.g., 04/18/12)"
   ]
  },
  {
   "cell_type": "code",
   "execution_count": 2,
   "id": "bdfdc844",
   "metadata": {},
   "outputs": [
    {
     "data": {
      "text/plain": [
       "datetime.timedelta(days=17, seconds=7179)"
      ]
     },
     "execution_count": 2,
     "metadata": {},
     "output_type": "execute_result"
    }
   ],
   "source": [
    "dt2 = datetime(2011, 11, 15, 22, 30)\n",
    "delta = dt2 - dt\n",
    "\n",
    "delta"
   ]
  },
  {
   "cell_type": "code",
   "execution_count": 3,
   "id": "8087aff5",
   "metadata": {},
   "outputs": [
    {
     "data": {
      "text/plain": [
       "datetime.datetime(2011, 11, 15, 22, 30)"
      ]
     },
     "execution_count": 3,
     "metadata": {},
     "output_type": "execute_result"
    }
   ],
   "source": [
    "dt + delta"
   ]
  },
  {
   "cell_type": "code",
   "execution_count": 4,
   "id": "a2ef8c8e",
   "metadata": {},
   "outputs": [
    {
     "name": "stdout",
     "output_type": "stream",
     "text": [
      "12\n"
     ]
    }
   ],
   "source": [
    "sequence = [1, 2, None, 4, None, 5]\n",
    "total = 0\n",
    "for value in sequence:\n",
    "    if value is None:\n",
    "        continue\n",
    "    total += value\n",
    "    \n",
    "print(total)    "
   ]
  },
  {
   "cell_type": "code",
   "execution_count": 1,
   "id": "6b63e765",
   "metadata": {},
   "outputs": [
    {
     "data": {
      "text/plain": [
       "('foo', [1, 2, 5], True)"
      ]
     },
     "execution_count": 1,
     "metadata": {},
     "output_type": "execute_result"
    }
   ],
   "source": [
    "# If an object inside a tuple is mutable, such as a list, you can modify it in place:\n",
    "\n",
    "tup = tuple(['foo', [1, 2], True])\n",
    "tup[1].append(5)\n",
    "\n",
    "tup"
   ]
  },
  {
   "cell_type": "code",
   "execution_count": 2,
   "id": "5c7f856b",
   "metadata": {},
   "outputs": [
    {
     "data": {
      "text/plain": [
       "(4, None, 'foo', 6, 0, 'bar')"
      ]
     },
     "execution_count": 2,
     "metadata": {},
     "output_type": "execute_result"
    }
   ],
   "source": [
    "# You can concatenate tuples using the + operator to produce longer tuples .\n",
    "\n",
    "(4, None, 'foo') + (6, 0) + ('bar',)"
   ]
  },
  {
   "cell_type": "code",
   "execution_count": 3,
   "id": "96269a0b",
   "metadata": {},
   "outputs": [
    {
     "data": {
      "text/plain": [
       "5"
      ]
     },
     "execution_count": 3,
     "metadata": {},
     "output_type": "execute_result"
    }
   ],
   "source": [
    "# Unpacking tuples\n",
    "tup = (4, 5, 6)\n",
    "\n",
    "a, b, c = tup\n",
    "\n",
    "b"
   ]
  },
  {
   "cell_type": "code",
   "execution_count": 4,
   "id": "cecfd6be",
   "metadata": {},
   "outputs": [
    {
     "data": {
      "text/plain": [
       "10"
      ]
     },
     "execution_count": 4,
     "metadata": {},
     "output_type": "execute_result"
    }
   ],
   "source": [
    "a + c"
   ]
  },
  {
   "cell_type": "code",
   "execution_count": 5,
   "id": "7b412d83",
   "metadata": {},
   "outputs": [
    {
     "name": "stdout",
     "output_type": "stream",
     "text": [
      "a=1, b=2, c=3\n",
      "a=4, b=5, c=6\n",
      "a=7, b=8, c=9\n"
     ]
    }
   ],
   "source": [
    "# A common use of variable unpacking is iterating over sequences of tuples or lists:\n",
    "\n",
    "seq = [(1, 2, 3), (4, 5, 6), (7, 8, 9)]\n",
    "\n",
    "for a, b, c in seq:\n",
    "     print(f'a={a}, b={b}, c={c}')"
   ]
  },
  {
   "cell_type": "code",
   "execution_count": 6,
   "id": "c637dcf2",
   "metadata": {},
   "outputs": [
    {
     "data": {
      "text/plain": [
       "[3, 4, 5]"
      ]
     },
     "execution_count": 6,
     "metadata": {},
     "output_type": "execute_result"
    }
   ],
   "source": [
    "values = 1, 2, 3, 4, 5\n",
    "\n",
    "a, b, *rest = values\n",
    "\n",
    "rest"
   ]
  },
  {
   "cell_type": "code",
   "execution_count": 7,
   "id": "dddc24e2",
   "metadata": {},
   "outputs": [],
   "source": [
    "a_list = [1,5,3,4,7]\n",
    "\n",
    "a_list.insert(8,6)"
   ]
  },
  {
   "cell_type": "code",
   "execution_count": 8,
   "id": "ebda0482",
   "metadata": {},
   "outputs": [
    {
     "data": {
      "text/plain": [
       "[1, 5, 3, 4, 7, 6]"
      ]
     },
     "execution_count": 8,
     "metadata": {},
     "output_type": "execute_result"
    }
   ],
   "source": [
    "a_list # if the index greater than the len , it stores the object in the last index"
   ]
  },
  {
   "cell_type": "raw",
   "id": "ea813002",
   "metadata": {},
   "source": [
    "Checking whether a list contains a value is a lot slower than doing so with dictionaries and sets (to be introduced shortly), as Python makes a linear scan across the values of the list, whereas it can check the others (based on hash tables) in constant time."
   ]
  },
  {
   "cell_type": "code",
   "execution_count": 9,
   "id": "94ec6e90",
   "metadata": {},
   "outputs": [
    {
     "data": {
      "text/plain": [
       "[4, None, 'foo', 7, 8, (2, 3)]"
      ]
     },
     "execution_count": 9,
     "metadata": {},
     "output_type": "execute_result"
    }
   ],
   "source": [
    "# Similar to tuples, adding two lists together with + concatenates them\n",
    "\n",
    "[4, None, \"foo\"] + [7, 8, (2, 3)]"
   ]
  },
  {
   "cell_type": "code",
   "execution_count": 15,
   "id": "78122159",
   "metadata": {},
   "outputs": [
    {
     "data": {
      "text/plain": [
       "[4, None, 'foo', 7, 8, (2, 3)]"
      ]
     },
     "execution_count": 15,
     "metadata": {},
     "output_type": "execute_result"
    }
   ],
   "source": [
    "# better performance \n",
    "\n",
    "list_1 = [4, None, \"foo\"] \n",
    "list_2 = [7, 8, (2, 3)]\n",
    "\n",
    "list_1.extend(list_2)\n",
    "\n",
    "list_1"
   ]
  },
  {
   "cell_type": "raw",
   "id": "ac503228",
   "metadata": {},
   "source": [
    "everything = []\n",
    "for chunk in list_of_lists:\n",
    "    everything.extend(chunk)\n",
    "    \n",
    "is faster than \n",
    "\n",
    "\n",
    "everything = []\n",
    "for chunk in list_of_lists:\n",
    "    everything = everything + chunk"
   ]
  },
  {
   "cell_type": "code",
   "execution_count": 17,
   "id": "1b67f842",
   "metadata": {},
   "outputs": [
    {
     "data": {
      "text/plain": [
       "['He', 'saw', 'six', 'small', 'foxes']"
      ]
     },
     "execution_count": 17,
     "metadata": {},
     "output_type": "execute_result"
    }
   ],
   "source": [
    "# sort by length\n",
    "b = [\"saw\", \"small\", \"He\", \"foxes\", \"six\"]\n",
    "    \n",
    "b.sort(key=len)    \n",
    "\n",
    "b"
   ]
  },
  {
   "cell_type": "code",
   "execution_count": 18,
   "id": "e23f9685",
   "metadata": {},
   "outputs": [
    {
     "data": {
      "text/plain": [
       "['small', 'foxes', 'saw', 'six', 'He']"
      ]
     },
     "execution_count": 18,
     "metadata": {},
     "output_type": "execute_result"
    }
   ],
   "source": [
    "# sort by length - Descending\n",
    "b = [\"saw\", \"small\", \"He\", \"foxes\", \"six\"]\n",
    "    \n",
    "b.sort(key=len,reverse= True)    \n",
    "\n",
    "b"
   ]
  },
  {
   "cell_type": "code",
   "execution_count": 19,
   "id": "12b75efc",
   "metadata": {},
   "outputs": [
    {
     "data": {
      "text/plain": [
       "'another value'"
      ]
     },
     "execution_count": 19,
     "metadata": {},
     "output_type": "execute_result"
    }
   ],
   "source": [
    "d1 = {'a': 'some value',\n",
    " 'b': [1, 2, 3, 4],\n",
    " 7: 'an integer',\n",
    " 'dummy': 'another value'}\n",
    "\n",
    "d1.pop('dummy') # return the value for dummy and remove key, value from the dictionary"
   ]
  },
  {
   "cell_type": "code",
   "execution_count": 20,
   "id": "4bec63e5",
   "metadata": {},
   "outputs": [
    {
     "data": {
      "text/plain": [
       "{'a': 'some value', 'b': [1, 2, 3, 4], 7: 'an integer'}"
      ]
     },
     "execution_count": 20,
     "metadata": {},
     "output_type": "execute_result"
    }
   ],
   "source": [
    "d1"
   ]
  },
  {
   "cell_type": "code",
   "execution_count": 21,
   "id": "f0784115",
   "metadata": {},
   "outputs": [
    {
     "data": {
      "text/plain": [
       "{'a': 'some value', 'b': 'foo', 7: 'an integer', 'c': 12}"
      ]
     },
     "execution_count": 21,
     "metadata": {},
     "output_type": "execute_result"
    }
   ],
   "source": [
    "# merge one dictionary into another using the update method\n",
    "\n",
    "d1.update({\"b\": \"foo\", \"c\": 12})\n",
    "\n",
    "d1"
   ]
  },
  {
   "cell_type": "code",
   "execution_count": 22,
   "id": "83cb279c",
   "metadata": {},
   "outputs": [
    {
     "data": {
      "text/plain": [
       "<zip at 0x28e822062c0>"
      ]
     },
     "execution_count": 22,
     "metadata": {},
     "output_type": "execute_result"
    }
   ],
   "source": [
    "tuples = zip(range(5), reversed(range(5)))\n",
    "\n",
    "tuples"
   ]
  },
  {
   "cell_type": "code",
   "execution_count": 23,
   "id": "720f77b1",
   "metadata": {},
   "outputs": [
    {
     "data": {
      "text/plain": [
       "{0: 4, 1: 3, 2: 2, 3: 1, 4: 0}"
      ]
     },
     "execution_count": 23,
     "metadata": {},
     "output_type": "execute_result"
    }
   ],
   "source": [
    "mapping = dict(tuples)\n",
    "mapping"
   ]
  },
  {
   "cell_type": "code",
   "execution_count": 1,
   "id": "3c4c3626",
   "metadata": {},
   "outputs": [
    {
     "data": {
      "text/plain": [
       "{'a': ['apple', 'atom'], 'b': ['bat', 'bar', 'book'], 'c': ['cat']}"
      ]
     },
     "execution_count": 1,
     "metadata": {},
     "output_type": "execute_result"
    }
   ],
   "source": [
    "words = [\"apple\", \"bat\", \"cat\", \"bar\", \"atom\", \"book\"]\n",
    "\n",
    "by_letter = {}\n",
    "\n",
    "for word in words:\n",
    "    letter = word[0]\n",
    "    by_letter.setdefault(letter, []).append(word)\n",
    "    \n",
    "by_letter    "
   ]
  },
  {
   "cell_type": "code",
   "execution_count": 2,
   "id": "8c9ee743",
   "metadata": {},
   "outputs": [
    {
     "data": {
      "text/plain": [
       "defaultdict(list,\n",
       "            {'a': ['apple', 'atom'],\n",
       "             'b': ['bat', 'bar', 'book'],\n",
       "             'c': ['cat']})"
      ]
     },
     "execution_count": 2,
     "metadata": {},
     "output_type": "execute_result"
    }
   ],
   "source": [
    "from collections import defaultdict\n",
    "\n",
    "by_letter_collections = defaultdict(list)\n",
    "\n",
    "\n",
    "for word in words:\n",
    "    by_letter_collections[word[0]].append(word)\n",
    "    \n",
    "by_letter_collections    "
   ]
  },
  {
   "cell_type": "raw",
   "id": "886e2884",
   "metadata": {},
   "source": [
    "the values of a dictionary can be any Python object, \n",
    "the keys generally have to be immutable objects like scalar types (int, float, string) or tuples\n",
    "You can check whether an object is hashable (can be used as a key in a dictionary) with the hash function:"
   ]
  },
  {
   "cell_type": "code",
   "execution_count": 3,
   "id": "061883ca",
   "metadata": {},
   "outputs": [
    {
     "data": {
      "text/plain": [
       "-848092377465333270"
      ]
     },
     "execution_count": 3,
     "metadata": {},
     "output_type": "execute_result"
    }
   ],
   "source": [
    "hash('name')"
   ]
  },
  {
   "cell_type": "code",
   "execution_count": 4,
   "id": "17220b2e",
   "metadata": {},
   "outputs": [
    {
     "data": {
      "text/plain": [
       "15"
      ]
     },
     "execution_count": 4,
     "metadata": {},
     "output_type": "execute_result"
    }
   ],
   "source": [
    "hash(15)"
   ]
  },
  {
   "cell_type": "code",
   "execution_count": 9,
   "id": "5e3b5619",
   "metadata": {},
   "outputs": [
    {
     "data": {
      "text/plain": [
       "2941677136697153642"
      ]
     },
     "execution_count": 9,
     "metadata": {},
     "output_type": "execute_result"
    }
   ],
   "source": [
    "# hash([1,2,(3,4,5)]) -> unhashable type: 'list'\n",
    "\n",
    "hash((1,2,(3,4,5)))"
   ]
  },
  {
   "cell_type": "code",
   "execution_count": 10,
   "id": "d15cc492",
   "metadata": {},
   "outputs": [
    {
     "data": {
      "text/plain": [
       "{(1, 2, 3, 4)}"
      ]
     },
     "execution_count": 10,
     "metadata": {},
     "output_type": "execute_result"
    }
   ],
   "source": [
    "my_data = [1, 2, 3, 4]\n",
    "\n",
    "my_set = {tuple(my_data)}\n",
    "\n",
    "my_set"
   ]
  },
  {
   "cell_type": "code",
   "execution_count": 11,
   "id": "431933fc",
   "metadata": {},
   "outputs": [
    {
     "data": {
      "text/plain": [
       "True"
      ]
     },
     "execution_count": 11,
     "metadata": {},
     "output_type": "execute_result"
    }
   ],
   "source": [
    "# Sets are equal if and only if their contents are equal:\n",
    "\n",
    "{1, 2, 3} == {3, 2, 1}"
   ]
  },
  {
   "cell_type": "markdown",
   "id": "8ca461a0",
   "metadata": {},
   "source": [
    "# List, Set, and Dictionary Comprehensions"
   ]
  },
  {
   "cell_type": "code",
   "execution_count": 12,
   "id": "88135182",
   "metadata": {},
   "outputs": [
    {
     "data": {
      "text/plain": [
       "['BAT', 'CAR', 'DOVE', 'PYTHON']"
      ]
     },
     "execution_count": 12,
     "metadata": {},
     "output_type": "execute_result"
    }
   ],
   "source": [
    "strings = [\"a\", \"as\", \"bat\", \"car\", \"dove\", \"python\"]\n",
    "\n",
    "# covert strings to upper if length > 2\n",
    "[x.upper() for x in strings if len(x) > 2]"
   ]
  },
  {
   "cell_type": "code",
   "execution_count": 13,
   "id": "a2b49550",
   "metadata": {},
   "outputs": [
    {
     "data": {
      "text/plain": [
       "{1, 2, 3, 4, 6}"
      ]
     },
     "execution_count": 13,
     "metadata": {},
     "output_type": "execute_result"
    }
   ],
   "source": [
    "# Suppose we wanted a set containing just the lengths of the strings contained in the collection\n",
    "\n",
    "unique_lengths = {len(x) for x in strings}\n",
    "unique_lengths"
   ]
  },
  {
   "cell_type": "code",
   "execution_count": 14,
   "id": "dd70c748",
   "metadata": {},
   "outputs": [
    {
     "data": {
      "text/plain": [
       "{1, 2, 3, 4, 6}"
      ]
     },
     "execution_count": 14,
     "metadata": {},
     "output_type": "execute_result"
    }
   ],
   "source": [
    "# We could also express this more functionally using the map function, introduced shortly\n",
    "\n",
    "set(map(len,strings))"
   ]
  },
  {
   "cell_type": "code",
   "execution_count": 15,
   "id": "b8ec886b",
   "metadata": {},
   "outputs": [
    {
     "data": {
      "text/plain": [
       "{'a': 0, 'as': 1, 'bat': 2, 'car': 3, 'dove': 4, 'python': 5}"
      ]
     },
     "execution_count": 15,
     "metadata": {},
     "output_type": "execute_result"
    }
   ],
   "source": [
    "# by dictionary comprehension\n",
    "loc_mapping = {value: index for index, value in enumerate(strings)}\n",
    "loc_mapping"
   ]
  },
  {
   "cell_type": "code",
   "execution_count": 16,
   "id": "7e308515",
   "metadata": {},
   "outputs": [
    {
     "data": {
      "text/plain": [
       "['Maria', 'Natalia']"
      ]
     },
     "execution_count": 16,
     "metadata": {},
     "output_type": "execute_result"
    }
   ],
   "source": [
    "# Nested list comprehensions\n",
    "\n",
    "all_data = [[\"John\", \"Emily\", \"Michael\", \"Mary\", \"Steven\"],\n",
    "            [\"Maria\", \"Juan\", \"Javier\", \"Natalia\", \"Pilar\"]]\n",
    "\n",
    "# Suppose we wanted to get a single list containing all names with two or more a’s in them.\n",
    "\n",
    "result = [name for names in all_data for name in names if name.count(\"a\") >= 2]\n",
    "\n",
    "result"
   ]
  },
  {
   "cell_type": "code",
   "execution_count": 17,
   "id": "063d4811",
   "metadata": {},
   "outputs": [
    {
     "data": {
      "text/plain": [
       "[1, 2, 3, 4, 5, 6, 7, 8, 9]"
      ]
     },
     "execution_count": 17,
     "metadata": {},
     "output_type": "execute_result"
    }
   ],
   "source": [
    "# flatten a list of tuples of integers into a simple list of integers\n",
    "\n",
    "some_tuples = [(1, 2, 3), (4, 5, 6), (7, 8, 9)]\n",
    "flattened = [x for tup in some_tuples for x in tup]\n",
    "\n",
    "flattened"
   ]
  },
  {
   "cell_type": "code",
   "execution_count": 18,
   "id": "df1bad7a",
   "metadata": {},
   "outputs": [
    {
     "data": {
      "text/plain": [
       "[[1, 2, 3], [4, 5, 6], [7, 8, 9]]"
      ]
     },
     "execution_count": 18,
     "metadata": {},
     "output_type": "execute_result"
    }
   ],
   "source": [
    "# This produces a list of lists, rather than a flattened list of all of the inner elements.\n",
    "\n",
    "list_of_lists = [[x for x in tup] for tup in some_tuples]\n",
    "\n",
    "list_of_lists"
   ]
  },
  {
   "cell_type": "code",
   "execution_count": 19,
   "id": "b6fe9b02",
   "metadata": {},
   "outputs": [
    {
     "name": "stdout",
     "output_type": "stream",
     "text": [
      "[]\n"
     ]
    }
   ],
   "source": [
    "a = None\n",
    "\n",
    "def bind_a_variable():\n",
    "    global a\n",
    "    a = []\n",
    "bind_a_variable()\n",
    "    \n",
    "\n",
    "print(a)"
   ]
  },
  {
   "cell_type": "code",
   "execution_count": 20,
   "id": "ca62404c",
   "metadata": {},
   "outputs": [
    {
     "name": "stdout",
     "output_type": "stream",
     "text": [
      "None\n"
     ]
    }
   ],
   "source": [
    "a = None\n",
    "\n",
    "def bind_a_variable():\n",
    "    a = []\n",
    "bind_a_variable()\n",
    "    \n",
    "\n",
    "print(a)"
   ]
  },
  {
   "cell_type": "code",
   "execution_count": 21,
   "id": "58bb4bf2",
   "metadata": {},
   "outputs": [
    {
     "data": {
      "text/plain": [
       "['Alabama',\n",
       " 'Georgia',\n",
       " 'Georgia',\n",
       " 'Georgia',\n",
       " 'Florida',\n",
       " 'South   Carolina',\n",
       " 'West Virginia']"
      ]
     },
     "execution_count": 21,
     "metadata": {},
     "output_type": "execute_result"
    }
   ],
   "source": [
    "import re\n",
    "\n",
    "def clean_strings(strings):\n",
    "    result = []\n",
    "    for value in strings:\n",
    "        value = value.strip()\n",
    "        value = re.sub(\"[!#?]\", \"\", value)\n",
    "        value = value.title()\n",
    "        result.append(value)\n",
    "    return result\n",
    "\n",
    "states = [\"   Alabama \", \"Georgia!\", \"Georgia\", \"georgia\", \"FlOrIda\",\"south   carolina##\", \"West virginia?\"]\n",
    "\n",
    "clean_states = clean_strings(states)\n",
    "\n",
    "clean_states"
   ]
  },
  {
   "cell_type": "code",
   "execution_count": 23,
   "id": "b4033e13",
   "metadata": {},
   "outputs": [
    {
     "data": {
      "text/plain": [
       "['Alabama',\n",
       " 'Georgia',\n",
       " 'Georgia',\n",
       " 'Georgia',\n",
       " 'Florida',\n",
       " 'South   Carolina',\n",
       " 'West Virginia']"
      ]
     },
     "execution_count": 23,
     "metadata": {},
     "output_type": "execute_result"
    }
   ],
   "source": [
    "# make a list of the operations you want to apply to a particular set of strings.\n",
    "\n",
    "def remove_punctuation(value):\n",
    "    return re.sub(\"[!#?]\", \"\", value)\n",
    "\n",
    "clean_ops = [str.strip, remove_punctuation, str.title] # string methods\n",
    "\n",
    "def clean_strings(strings, ops):\n",
    "    result = []\n",
    "    for value in strings:\n",
    "        for func in ops:\n",
    "            value = func(value)\n",
    "        result.append(value)\n",
    "    return result\n",
    "\n",
    "clean_states = clean_strings(states,clean_ops)\n",
    "\n",
    "clean_states"
   ]
  },
  {
   "cell_type": "code",
   "execution_count": 24,
   "id": "51bb7f52",
   "metadata": {},
   "outputs": [
    {
     "name": "stdout",
     "output_type": "stream",
     "text": [
      "   Alabama \n",
      "Georgia\n",
      "Georgia\n",
      "georgia\n",
      "FlOrIda\n",
      "south   carolina\n",
      "West virginia\n"
     ]
    }
   ],
   "source": [
    "# Using map and remove_punctuation functions\n",
    "for x in map(remove_punctuation, states):\n",
    "     print(x)"
   ]
  },
  {
   "cell_type": "code",
   "execution_count": 25,
   "id": "ac3c5c26",
   "metadata": {},
   "outputs": [
    {
     "name": "stdout",
     "output_type": "stream",
     "text": [
      "Alabama\n",
      "Georgia\n",
      "Georgia\n",
      "Georgia\n",
      "Florida\n",
      "South   Carolina\n",
      "West Virginia\n"
     ]
    }
   ],
   "source": [
    "for x in map(remove_punctuation, states):\n",
    "     print(x.strip().title())"
   ]
  },
  {
   "cell_type": "code",
   "execution_count": 28,
   "id": "39314834",
   "metadata": {},
   "outputs": [
    {
     "data": {
      "text/plain": [
       "[16, 0, 1, 25, 36]"
      ]
     },
     "execution_count": 28,
     "metadata": {},
     "output_type": "execute_result"
    }
   ],
   "source": [
    "# apply labmda and normal functions in the same code\n",
    "def apply_to_list(some_list, f):\n",
    "    return [f(x) for x in some_list]\n",
    "\n",
    "integers = [4, 0, 1, 5, 6]\n",
    "\n",
    "apply_to_list(integers, lambda x: x ** 2)"
   ]
  },
  {
   "cell_type": "code",
   "execution_count": 30,
   "id": "ccb62ec9",
   "metadata": {},
   "outputs": [
    {
     "data": {
      "text/plain": [
       "['aaaa', 'foo', 'abab', 'bar', 'card']"
      ]
     },
     "execution_count": 30,
     "metadata": {},
     "output_type": "execute_result"
    }
   ],
   "source": [
    "# suppose you wanted to sort a collection of strings by the number of distinct letters in each string.\n",
    "strings = [\"foo\", \"card\", \"bar\", \"aaaa\", \"abab\"]\n",
    "strings.sort(key=lambda x: len(set(x)))\n",
    "\n",
    "strings"
   ]
  },
  {
   "cell_type": "code",
   "execution_count": 31,
   "id": "fbe7052b",
   "metadata": {},
   "outputs": [
    {
     "data": {
      "text/plain": [
       "<generator object squares at 0x0000020AF57F7CF0>"
      ]
     },
     "execution_count": 31,
     "metadata": {},
     "output_type": "execute_result"
    }
   ],
   "source": [
    "#  generators can return a sequence of multiple values by pausing and resuming execution each time the generator is used.\n",
    "def squares(n=10):\n",
    "    print(f\"Generating squares from 1 to {n ** 2}\")\n",
    "    for i in range(1, n + 1):\n",
    "        yield i ** 2\n",
    "        \n",
    "gen = squares()\n",
    "gen        "
   ]
  },
  {
   "cell_type": "code",
   "execution_count": 32,
   "id": "e8ae0ca0",
   "metadata": {},
   "outputs": [
    {
     "name": "stdout",
     "output_type": "stream",
     "text": [
      "Generating squares from 1 to 100\n"
     ]
    },
    {
     "data": {
      "text/plain": [
       "[1, 4, 9, 16, 25, 36, 49, 64, 81, 100]"
      ]
     },
     "execution_count": 32,
     "metadata": {},
     "output_type": "execute_result"
    }
   ],
   "source": [
    "list(gen)"
   ]
  },
  {
   "cell_type": "code",
   "execution_count": 33,
   "id": "aca8e549",
   "metadata": {},
   "outputs": [
    {
     "data": {
      "text/plain": [
       "[]"
      ]
     },
     "execution_count": 33,
     "metadata": {},
     "output_type": "execute_result"
    }
   ],
   "source": [
    "[*gen] # "
   ]
  },
  {
   "cell_type": "code",
   "execution_count": 34,
   "id": "0567a1bd",
   "metadata": {},
   "outputs": [
    {
     "name": "stdout",
     "output_type": "stream",
     "text": [
      "Generating squares from 1 to 100\n"
     ]
    },
    {
     "data": {
      "text/plain": [
       "[1, 4, 9, 16, 25, 36, 49, 64, 81, 100]"
      ]
     },
     "execution_count": 34,
     "metadata": {},
     "output_type": "execute_result"
    }
   ],
   "source": [
    "gen = squares()\n",
    "[*gen]"
   ]
  },
  {
   "cell_type": "code",
   "execution_count": 37,
   "id": "73295204",
   "metadata": {},
   "outputs": [
    {
     "data": {
      "text/plain": [
       "[0, 5, 10, 15, 20, 25, 30, 35, 40, 45, 50, 55, 60, 65, 70, 75, 80, 85, 90, 95]"
      ]
     },
     "execution_count": 37,
     "metadata": {},
     "output_type": "execute_result"
    }
   ],
   "source": [
    "#  generator expression: This is a generator analogue to list, dictionary, and set comprehensions. \n",
    "gen = (x for x in range(0,100,5))\n",
    "\n",
    "list(gen)"
   ]
  },
  {
   "cell_type": "code",
   "execution_count": 38,
   "id": "7495993f",
   "metadata": {},
   "outputs": [
    {
     "data": {
      "text/plain": [
       "4950"
      ]
     },
     "execution_count": 38,
     "metadata": {},
     "output_type": "execute_result"
    }
   ],
   "source": [
    "sum(x for x in range(100))"
   ]
  },
  {
   "cell_type": "code",
   "execution_count": 39,
   "id": "baac49eb",
   "metadata": {},
   "outputs": [
    {
     "data": {
      "text/plain": [
       "{0: 0, 1: 1, 2: 4, 3: 9, 4: 16}"
      ]
     },
     "execution_count": 39,
     "metadata": {},
     "output_type": "execute_result"
    }
   ],
   "source": [
    "# Generator expressions can be used instead of list comprehensions as function arguments in some cases:\n",
    "dict((i, i ** 2) for i in range(5))"
   ]
  },
  {
   "cell_type": "code",
   "execution_count": 40,
   "id": "47a541c8",
   "metadata": {},
   "outputs": [
    {
     "name": "stdout",
     "output_type": "stream",
     "text": [
      "A ['Alan', 'Adam']\n",
      "W ['Wes', 'Will']\n",
      "A ['Albert']\n",
      "S ['Steven']\n"
     ]
    }
   ],
   "source": [
    "# The standard library itertools module has a collection of generators for many common data algorithms. \n",
    "# For example, groupby takes any sequence and a function,\n",
    "# grouping consecutive elements in the sequence by return value of the function.\n",
    "\n",
    "import itertools\n",
    "\n",
    "def first_letter(x):\n",
    "    return x[0]\n",
    "\n",
    "names = [\"Alan\", \"Adam\", \"Wes\", \"Will\", \"Albert\", \"Steven\"]\n",
    "for letter, names in itertools.groupby(names, first_letter):\n",
    "    print(letter, list(names)) # names is a generator"
   ]
  },
  {
   "cell_type": "code",
   "execution_count": 41,
   "id": "fbe83bed",
   "metadata": {},
   "outputs": [
    {
     "name": "stdout",
     "output_type": "stream",
     "text": [
      "I ['Ibrahim']\n",
      "A ['Ali', 'Ahmed']\n",
      "M ['Mona']\n",
      "R ['Rana', 'Ramy']\n",
      "I ['Islam']\n"
     ]
    }
   ],
   "source": [
    "names = ['Ibrahim','Ali','Ahmed','Mona','Rana','Ramy','Islam']\n",
    "\n",
    "for letter, names in itertools.groupby(names, first_letter):\n",
    "    print(letter, list(names)) # names is a generator"
   ]
  },
  {
   "cell_type": "code",
   "execution_count": 42,
   "id": "53f8813b",
   "metadata": {},
   "outputs": [
    {
     "name": "stdout",
     "output_type": "stream",
     "text": [
      "I ['Islam', 'Ibrahim']\n",
      "A ['Ali', 'Ahmed']\n",
      "M ['Mona']\n",
      "R ['Rana', 'Ramy']\n"
     ]
    }
   ],
   "source": [
    "names = ['Islam','Ibrahim','Ali','Ahmed','Mona','Rana','Ramy']\n",
    "\n",
    "for letter, names in itertools.groupby(names, first_letter):\n",
    "    print(letter, list(names)) # names is a generator"
   ]
  },
  {
   "cell_type": "code",
   "execution_count": 44,
   "id": "1a113901",
   "metadata": {},
   "outputs": [
    {
     "data": {
      "text/plain": [
       "15.34"
      ]
     },
     "execution_count": 44,
     "metadata": {},
     "output_type": "execute_result"
    }
   ],
   "source": [
    "def attempt_float(x):\n",
    "    try:\n",
    "        return float(x)\n",
    "    except:\n",
    "        return x , \" --> can't convert to float\" \n",
    "    \n",
    "attempt_float(\"15.34\")    "
   ]
  },
  {
   "cell_type": "code",
   "execution_count": 45,
   "id": "1eb190e7",
   "metadata": {},
   "outputs": [
    {
     "data": {
      "text/plain": [
       "('my name is Ibrahim Zaitoun', \" --> can't convert to float\")"
      ]
     },
     "execution_count": 45,
     "metadata": {},
     "output_type": "execute_result"
    }
   ],
   "source": [
    "attempt_float(\"my name is Ibrahim Zaitoun\")"
   ]
  },
  {
   "cell_type": "code",
   "execution_count": 46,
   "id": "f1e7f566",
   "metadata": {},
   "outputs": [
    {
     "data": {
      "text/plain": [
       "'my name is Ibrahim Zaitoun'"
      ]
     },
     "execution_count": 46,
     "metadata": {},
     "output_type": "execute_result"
    }
   ],
   "source": [
    "# catch multiple exception types by writing a tuple of exception types\n",
    "def attempt_float(x):\n",
    "    try:\n",
    "        return float(x)\n",
    "    except (TypeError, ValueError):\n",
    "        return x\n",
    "    \n",
    "attempt_float(\"my name is Ibrahim Zaitoun\")    "
   ]
  },
  {
   "cell_type": "code",
   "execution_count": 47,
   "id": "4d2db035",
   "metadata": {},
   "outputs": [
    {
     "data": {
      "text/plain": [
       "[1, 2, 3]"
      ]
     },
     "execution_count": 47,
     "metadata": {},
     "output_type": "execute_result"
    }
   ],
   "source": [
    "attempt_float([1,2,3])"
   ]
  },
  {
   "cell_type": "code",
   "execution_count": 48,
   "id": "42823d91",
   "metadata": {},
   "outputs": [
    {
     "data": {
      "text/plain": [
       "(1, 2, 3)"
      ]
     },
     "execution_count": 48,
     "metadata": {},
     "output_type": "execute_result"
    }
   ],
   "source": [
    "attempt_float((1,2,3))"
   ]
  },
  {
   "cell_type": "code",
   "execution_count": 49,
   "id": "9f577d7a",
   "metadata": {},
   "outputs": [
    {
     "name": "stdout",
     "output_type": "stream",
     "text": [
      "<class 'range'>\n",
      "[0, 1, 2, 3, 4]\n",
      "[1, 3, 5, 7, 9]\n",
      "[(0, 'Jerry'), (1, 'Kramer'), (2, 'Elaine'), (3, 'George'), (4, 'Newman')]\n",
      "[(0, 'Jerry'), (1, 'Kramer'), (2, 'Elaine'), (3, 'George'), (4, 'Newman')]\n",
      "[(0, 'Jerry'), (1, 'Kramer'), (2, 'Elaine'), (3, 'George'), (4, 'Newman')]\n",
      "[(1, 'Jerry'), (2, 'Kramer'), (3, 'Elaine'), (4, 'George'), (5, 'Newman')]\n",
      "[(0, 'Jerry'), (1, 'Kramer'), (2, 'Elaine'), (3, 'George'), (4, 'Newman')]\n",
      "['JERRY', 'KRAMER', 'ELAINE', 'GEORGE', 'NEWMAN']\n",
      "['JERRY', 'KRAMER', 'ELAINE', 'GEORGE', 'NEWMAN']\n",
      "<class 'map'>\n",
      "['JERRY', 'KRAMER', 'ELAINE', 'GEORGE', 'NEWMAN']\n",
      "[3, 23, 12, 20, 12, 14, 79]\n",
      "[2 4 8 5 7]\n",
      "int32\n",
      "[2.25 4.   8.   5.6  7.  ]\n",
      "float64\n",
      "[ 6 12 24 15 21]\n",
      "2\n",
      "[[1 2 3]\n",
      " [4 5 6]]\n",
      "2\n",
      "[2 5]\n",
      "[1 2 3]\n",
      "[2 4 8 5 7]\n",
      "[False  True  True  True  True]\n",
      "[4 8 5 7]\n",
      "[('Jerry', 7), ('Kramer', 17), ('Elaine', 27), ('George', 37), ('Newman', 47)]\n",
      "Welcome to Festivus Jerry... You're 7 min late.\n",
      "Welcome to Festivus Kramer... You're 17 min late.\n",
      "Welcome to Festivus Elaine... You're 27 min late.\n",
      "Welcome to Festivus George... You're 37 min late.\n",
      "Welcome to Festivus Newman... You're 47 min late.\n",
      "[('Python', 'R'), ('Python', 'SQL'), ('Python', 'Julia'), ('R', 'SQL'), ('R', 'Julia'), ('SQL', 'Julia')]\n",
      "[('Python', 'R', 'SQL'), ('Python', 'R', 'Julia'), ('Python', 'SQL', 'Julia'), ('R', 'SQL', 'Julia')]\n",
      "Elapsed time: 0.06494 seconds\n",
      "Elapsed time: 0.00044 seconds (average per run)\n",
      "<zip object at 0x0000020AF5F7F740>\n",
      "[('Ali', 22), ('Hamdy', 45), ('Kamel', 14), ('Adel', 30)]\n",
      "[]\n",
      "[]\n",
      "['JERRY', 'KRAMER', 'ELAINE', 'GEORGE', 'NEWMAN']\n",
      "0.00000 Seconds\n",
      "0.00000 Seconds\n",
      "0.08392 Seconds\n",
      "0.73132 Seconds\n",
      "14.5 µs ± 412 ns per loop (mean ± std. dev. of 7 runs, 100,000 loops each)\n",
      "24.5 µs ± 710 ns per loop (mean ± std. dev. of 2 runs, 10 loops each)\n",
      "1.1 µs ± 83.5 ns per loop (mean ± std. dev. of 7 runs, 1,000,000 loops each)\n",
      "1.56 µs ± 103 ns per loop (mean ± std. dev. of 7 runs, 1,000,000 loops each)\n",
      "1.68 µs ± 33.3 ns per loop (mean ± std. dev. of 7 runs, 1,000,000 loops each)\n",
      "13.3 µs ± 218 ns per loop (mean ± std. dev. of 7 runs, 100,000 loops each)\n",
      "126 ns ± 6.07 ns per loop (mean ± std. dev. of 7 runs, 10,000,000 loops each)\n",
      "54.1 ns ± 4.49 ns per loop (mean ± std. dev. of 7 runs, 10,000,000 loops each)\n",
      "l_time better than f_time by 71.88782999993624 ns\n",
      "[0, 1, 2, 3, 4, 5, 6, 7, 8, 9, 10]\n",
      "[0, 1, 2, 3, 4, 5, 6, 7, 8, 9, 10]\n",
      "1.12 µs ± 75.6 ns per loop (mean ± std. dev. of 7 runs, 1,000,000 loops each)\n",
      "622 ns ± 195 ns per loop (mean ± std. dev. of 7 runs, 1,000,000 loops each)\n",
      "88.3 µs ± 9.14 µs per loop (mean ± std. dev. of 7 runs, 10,000 loops each)\n",
      "67.7 µs ± 8.37 µs per loop (mean ± std. dev. of 7 runs, 10,000 loops each)\n",
      "Requirement already satisfied: line_profiler in d:\\anaconda\\lib\\site-packages (4.0.3)\n",
      "Hello Ibrahim\n",
      "Hello Ibrahim\n",
      "Hello Ibrahim\n",
      "Hello Ibrahim\n",
      "Hello Ibrahim\n",
      "Hello Ibrahim\n",
      "Hello Ibrahim\n",
      "Hello Ibrahim\n",
      "Hello Ibrahim\n",
      "Hello Ibrahim\n",
      "Size in Bytes: 8056\n",
      "Requirement already satisfied: memory_profiler in d:\\anaconda\\lib\\site-packages (0.61.0)\n",
      "Requirement already satisfied: psutil in d:\\anaconda\\lib\\site-packages (from memory_profiler) (5.8.0)\n",
      "ERROR: Could not find file C:\\Users\\DELL\\AppData\\Local\\Temp\\ipykernel_19388\\4259382533.py\n",
      "Hello Ibrahim\n",
      "Hello Ibrahim\n",
      "Hello Ibrahim\n",
      "Hello Ibrahim\n",
      "Hello Ibrahim\n",
      "Hello Ibrahim\n",
      "Hello Ibrahim\n",
      "Hello Ibrahim\n",
      "Hello Ibrahim\n",
      "Hello Ibrahim\n",
      "\n",
      "\n"
     ]
    },
    {
     "name": "stderr",
     "output_type": "stream",
     "text": [
      "D:\\anaconda\\lib\\site-packages\\memory_profiler.py:735: UserWarning: Could not extract a code object for the object <built-in function arange>\n",
      "  warnings.warn(\"Could not extract a code object for the object %r\"\n"
     ]
    },
    {
     "name": "stdout",
     "output_type": "stream",
     "text": [
      "\n",
      "\n"
     ]
    }
   ],
   "source": [
    "%run efficient_code.ipynb # run another notebook in the same directory and print the outputs."
   ]
  },
  {
   "cell_type": "code",
   "execution_count": 52,
   "id": "dd7b1f8b",
   "metadata": {},
   "outputs": [],
   "source": [
    "my_file = open('document.txt','x',encoding= 'utf-8')"
   ]
  },
  {
   "cell_type": "code",
   "execution_count": 53,
   "id": "382b7ac9",
   "metadata": {},
   "outputs": [
    {
     "data": {
      "text/plain": [
       "179"
      ]
     },
     "execution_count": 53,
     "metadata": {},
     "output_type": "execute_result"
    }
   ],
   "source": [
    "my_file.write(\"\"\"\n",
    "This notebook contains python tips from a famous book\n",
    "the book called python for data analysis\n",
    "the book have 15 chapters and help you to understand python from basics to be hero\n",
    "\"\"\")"
   ]
  },
  {
   "cell_type": "code",
   "execution_count": 54,
   "id": "1fec02f6",
   "metadata": {},
   "outputs": [],
   "source": [
    "my_file.close()"
   ]
  },
  {
   "cell_type": "code",
   "execution_count": 60,
   "id": "2ad60175",
   "metadata": {},
   "outputs": [
    {
     "name": "stdout",
     "output_type": "stream",
     "text": [
      "Cursor at : 0\n",
      "Cursor at : 183\n"
     ]
    }
   ],
   "source": [
    "with open('document.txt') as f:\n",
    "    print(\"Cursor at :\",f.tell())  # tell gives you the current position\n",
    "    lines = [x.rstrip() for x in f]\n",
    "    print(\"Cursor at :\",f.tell())"
   ]
  },
  {
   "cell_type": "code",
   "execution_count": 61,
   "id": "3902e7e3",
   "metadata": {},
   "outputs": [
    {
     "data": {
      "text/plain": [
       "['',\n",
       " 'This notebook contains python tips from a famous book',\n",
       " 'the book called python for data analysis',\n",
       " 'the book have 15 chapters and help you to understand python from basics to be hero']"
      ]
     },
     "execution_count": 61,
     "metadata": {},
     "output_type": "execute_result"
    }
   ],
   "source": [
    "lines"
   ]
  },
  {
   "cell_type": "code",
   "execution_count": 62,
   "id": "7ff4bdb9",
   "metadata": {},
   "outputs": [
    {
     "data": {
      "text/plain": [
       "'utf-8'"
      ]
     },
     "execution_count": 62,
     "metadata": {},
     "output_type": "execute_result"
    }
   ],
   "source": [
    "import sys\n",
    "sys.getdefaultencoding() # the default encoding"
   ]
  },
  {
   "cell_type": "code",
   "execution_count": 64,
   "id": "9ce31a7f",
   "metadata": {},
   "outputs": [
    {
     "data": {
      "text/plain": [
       "True"
      ]
     },
     "execution_count": 64,
     "metadata": {},
     "output_type": "execute_result"
    }
   ],
   "source": [
    "f.closed # True if the file is closed"
   ]
  },
  {
   "cell_type": "code",
   "execution_count": null,
   "id": "3733aee1",
   "metadata": {},
   "outputs": [],
   "source": []
  }
 ],
 "metadata": {
  "kernelspec": {
   "display_name": "Python 3 (ipykernel)",
   "language": "python",
   "name": "python3"
  },
  "language_info": {
   "codemirror_mode": {
    "name": "ipython",
    "version": 3
   },
   "file_extension": ".py",
   "mimetype": "text/x-python",
   "name": "python",
   "nbconvert_exporter": "python",
   "pygments_lexer": "ipython3",
   "version": "3.9.12"
  }
 },
 "nbformat": 4,
 "nbformat_minor": 5
}
